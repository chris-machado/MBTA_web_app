{
 "cells": [
  {
   "cell_type": "code",
   "execution_count": 1,
   "id": "d9082876",
   "metadata": {},
   "outputs": [
    {
     "ename": "ModuleNotFoundError",
     "evalue": "No module named 'mysqldb'",
     "output_type": "error",
     "traceback": [
      "\u001b[0;31m---------------------------------------------------------------------------\u001b[0m",
      "\u001b[0;31mModuleNotFoundError\u001b[0m                       Traceback (most recent call last)",
      "Input \u001b[0;32mIn [1]\u001b[0m, in \u001b[0;36m<cell line: 2>\u001b[0;34m()\u001b[0m\n\u001b[1;32m      1\u001b[0m \u001b[38;5;28;01mimport\u001b[39;00m \u001b[38;5;21;01mpandas\u001b[39;00m \u001b[38;5;28;01mas\u001b[39;00m \u001b[38;5;21;01mpd\u001b[39;00m\n\u001b[0;32m----> 2\u001b[0m \u001b[38;5;28;01mimport\u001b[39;00m \u001b[38;5;21;01mmysqldb\u001b[39;00m\n\u001b[1;32m      3\u001b[0m \u001b[38;5;28;01mimport\u001b[39;00m \u001b[38;5;21;01mdatetime\u001b[39;00m\n\u001b[1;32m      5\u001b[0m df \u001b[38;5;241m=\u001b[39m pd\u001b[38;5;241m.\u001b[39mread_csv(\u001b[38;5;124m'\u001b[39m\u001b[38;5;124mmbta.csv\u001b[39m\u001b[38;5;124m'\u001b[39m, low_memory\u001b[38;5;241m=\u001b[39m\u001b[38;5;28;01mFalse\u001b[39;00m)\n",
      "\u001b[0;31mModuleNotFoundError\u001b[0m: No module named 'mysqldb'"
     ]
    }
   ],
   "source": [
    "import pandas as pd\n",
    "import mysqldb\n",
    "import datetime\n",
    "\n",
    "df = pd.read_csv('mbta.csv', low_memory=False)\n",
    "mbtaDictList = []\n",
    "mbtaDict = {}\n",
    "for ind, row in df.iterrows():\n",
    "    mbtaDict['id'] = row.iloc[2]\n",
    "    mbtaDict['latitude'] = float(row.iloc[3]) \n",
    "    mbtaDict['longitude'] = float(row.iloc[4]) \n",
    "    mbtaDict['bearing'] = int(row.iloc[5]) \n",
    "    mbtaDict['current_status'] = row.iloc[6]\n",
    "    mbtaDict['current_stop_sequence'] = int(row.iloc[7])\n",
    "    mbtaDict['direction_id'] = int(row.iloc[8])\n",
    "    mbtaDict['label'] = row.iloc[9],\n",
    "    mbtaDict['occupancy_status'] = row.iloc[10]\n",
    "    mbtaDict['speed'] = row.iloc[11] \n",
    "    mbtaDict['updated_at'] = row.iloc[12]"
   ]
  },
  {
   "cell_type": "code",
   "execution_count": null,
   "id": "7181598f",
   "metadata": {},
   "outputs": [],
   "source": []
  }
 ],
 "metadata": {
  "kernelspec": {
   "display_name": "Python 3 (ipykernel)",
   "language": "python",
   "name": "python3"
  },
  "language_info": {
   "codemirror_mode": {
    "name": "ipython",
    "version": 3
   },
   "file_extension": ".py",
   "mimetype": "text/x-python",
   "name": "python",
   "nbconvert_exporter": "python",
   "pygments_lexer": "ipython3",
   "version": "3.9.12"
  }
 },
 "nbformat": 4,
 "nbformat_minor": 5
}
