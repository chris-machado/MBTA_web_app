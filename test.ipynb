{
 "cells": [
  {
   "cell_type": "code",
   "execution_count": 4,
   "id": "c507fdd3",
   "metadata": {},
   "outputs": [
    {
     "ename": "ValueError",
     "evalue": "cannot convert float NaN to integer",
     "output_type": "error",
     "traceback": [
      "\u001b[0;31m---------------------------------------------------------------------------\u001b[0m",
      "\u001b[0;31mValueError\u001b[0m                                Traceback (most recent call last)",
      "Input \u001b[0;32mIn [4]\u001b[0m, in \u001b[0;36m<cell line: 8>\u001b[0;34m()\u001b[0m\n\u001b[1;32m     12\u001b[0m mbtaDict[\u001b[38;5;124m'\u001b[39m\u001b[38;5;124mbearing\u001b[39m\u001b[38;5;124m'\u001b[39m] \u001b[38;5;241m=\u001b[39m \u001b[38;5;28mint\u001b[39m(row\u001b[38;5;241m.\u001b[39miloc[\u001b[38;5;241m5\u001b[39m]) \n\u001b[1;32m     13\u001b[0m mbtaDict[\u001b[38;5;124m'\u001b[39m\u001b[38;5;124mcurrent_status\u001b[39m\u001b[38;5;124m'\u001b[39m] \u001b[38;5;241m=\u001b[39m row\u001b[38;5;241m.\u001b[39miloc[\u001b[38;5;241m6\u001b[39m]\n\u001b[0;32m---> 14\u001b[0m mbtaDict[\u001b[38;5;124m'\u001b[39m\u001b[38;5;124mcurrent_stop_sequence\u001b[39m\u001b[38;5;124m'\u001b[39m] \u001b[38;5;241m=\u001b[39m \u001b[38;5;28;43mint\u001b[39;49m\u001b[43m(\u001b[49m\u001b[43mrow\u001b[49m\u001b[38;5;241;43m.\u001b[39;49m\u001b[43miloc\u001b[49m\u001b[43m[\u001b[49m\u001b[38;5;241;43m7\u001b[39;49m\u001b[43m]\u001b[49m\u001b[43m)\u001b[49m\n\u001b[1;32m     15\u001b[0m mbtaDict[\u001b[38;5;124m'\u001b[39m\u001b[38;5;124mdirection_id\u001b[39m\u001b[38;5;124m'\u001b[39m] \u001b[38;5;241m=\u001b[39m \u001b[38;5;28mint\u001b[39m(row\u001b[38;5;241m.\u001b[39miloc[\u001b[38;5;241m8\u001b[39m])\n\u001b[1;32m     16\u001b[0m mbtaDict[\u001b[38;5;124m'\u001b[39m\u001b[38;5;124mlabel\u001b[39m\u001b[38;5;124m'\u001b[39m] \u001b[38;5;241m=\u001b[39m row\u001b[38;5;241m.\u001b[39miloc[\u001b[38;5;241m9\u001b[39m],\n",
      "\u001b[0;31mValueError\u001b[0m: cannot convert float NaN to integer"
     ]
    }
   ],
   "source": [
    "import pandas as pd\n",
    "# import mysqldb\n",
    "import datetime\n",
    "\n",
    "df = pd.read_csv('mbta.csv', low_memory=False)\n",
    "df.replace()\n",
    "\n",
    "mbtaDictList = []\n",
    "mbtaDict = {}\n",
    "for ind, row in df.iterrows():\n",
    "    mbtaDict['id'] = row.iloc[2]\n",
    "    mbtaDict['latitude'] = float(row.iloc[3]) \n",
    "    mbtaDict['longitude'] = float(row.iloc[4]) \n",
    "    mbtaDict['bearing'] = int(row.iloc[5]) \n",
    "    mbtaDict['current_status'] = row.iloc[6]\n",
    "    mbtaDict['current_stop_sequence'] = int(row.iloc[7])\n",
    "    mbtaDict['direction_id'] = int(row.iloc[8])\n",
    "    mbtaDict['label'] = row.iloc[9],\n",
    "    mbtaDict['occupancy_status'] = row.iloc[10]\n",
    "    mbtaDict['speed'] = row.iloc[11] \n",
    "    mbtaDict['updated_at'] = row.iloc[12]"
   ]
  },
  {
   "cell_type": "code",
   "execution_count": null,
   "id": "099f5960",
   "metadata": {},
   "outputs": [],
   "source": []
  }
 ],
 "metadata": {
  "kernelspec": {
   "display_name": "Python 3 (ipykernel)",
   "language": "python",
   "name": "python3"
  },
  "language_info": {
   "codemirror_mode": {
    "name": "ipython",
    "version": 3
   },
   "file_extension": ".py",
   "mimetype": "text/x-python",
   "name": "python",
   "nbconvert_exporter": "python",
   "pygments_lexer": "ipython3",
   "version": "3.9.12"
  }
 },
 "nbformat": 4,
 "nbformat_minor": 5
}
