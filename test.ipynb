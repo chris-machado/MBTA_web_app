{
 "cells": [
  {
   "cell_type": "code",
   "execution_count": 4,
   "id": "ec06abe1",
   "metadata": {},
   "outputs": [],
   "source": [
    "import pandas as pd\n",
    "# import mysqldb\n",
    "import datetime\n",
    "\n",
    "df = pd.read_csv('mbta.csv', low_memory=False)\n"
   ]
  },
  {
   "cell_type": "code",
   "execution_count": 11,
   "id": "75666f5e",
   "metadata": {},
   "outputs": [
    {
     "ename": "AttributeError",
     "evalue": "module 'datetime' has no attribute 'a'",
     "output_type": "error",
     "traceback": [
      "\u001b[0;31m---------------------------------------------------------------------------\u001b[0m",
      "\u001b[0;31mAttributeError\u001b[0m                            Traceback (most recent call last)",
      "Input \u001b[0;32mIn [11]\u001b[0m, in \u001b[0;36m<cell line: 2>\u001b[0;34m()\u001b[0m\n\u001b[1;32m      1\u001b[0m a \u001b[38;5;241m=\u001b[39m df\u001b[38;5;241m.\u001b[39miloc[\u001b[38;5;241m0\u001b[39m]\n\u001b[0;32m----> 2\u001b[0m \u001b[43mdatetime\u001b[49m\u001b[38;5;241;43m.\u001b[39;49m\u001b[43ma\u001b[49m\u001b[38;5;241m.\u001b[39mloc[\u001b[38;5;124m'\u001b[39m\u001b[38;5;124mupdated_at\u001b[39m\u001b[38;5;124m'\u001b[39m]\n",
      "\u001b[0;31mAttributeError\u001b[0m: module 'datetime' has no attribute 'a'"
     ]
    }
   ],
   "source": [
    "a = df.iloc[0]\n",
    "datetime.a.loc['updated_at']"
   ]
  },
  {
   "cell_type": "code",
   "execution_count": null,
   "id": "16ab6729",
   "metadata": {},
   "outputs": [],
   "source": [
    "df.replace()\n",
    "\n",
    "mbtaDictList = []\n",
    "mbtaDict = {}\n",
    "for ind, row in df.iterrows():\n",
    "    mbtaDict['id'] = row.iloc[2]\n",
    "    mbtaDict['latitude'] = float(row.iloc[3]) \n",
    "    mbtaDict['longitude'] = float(row.iloc[4]) \n",
    "    mbtaDict['bearing'] = int(row.iloc[5]) \n",
    "    mbtaDict['current_status'] = row.iloc[6]\n",
    "    mbtaDict['current_stop_sequence'] = int(row.iloc[7])\n",
    "    mbtaDict['direction_id'] = int(row.iloc[8])\n",
    "    mbtaDict['label'] = row.iloc[9],\n",
    "    mbtaDict['occupancy_status'] = row.iloc[10]\n",
    "    mbtaDict['speed'] = row.iloc[11] \n",
    "    mbtaDict['updated_at'] = row.iloc[12]"
   ]
  }
 ],
 "metadata": {
  "kernelspec": {
   "display_name": "Python 3 (ipykernel)",
   "language": "python",
   "name": "python3"
  },
  "language_info": {
   "codemirror_mode": {
    "name": "ipython",
    "version": 3
   },
   "file_extension": ".py",
   "mimetype": "text/x-python",
   "name": "python",
   "nbconvert_exporter": "python",
   "pygments_lexer": "ipython3",
   "version": "3.9.12"
  }
 },
 "nbformat": 4,
 "nbformat_minor": 5
}
