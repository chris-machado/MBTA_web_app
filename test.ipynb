{
 "cells": [
  {
   "cell_type": "code",
   "execution_count": 4,
   "id": "a226473f",
   "metadata": {},
   "outputs": [],
   "source": [
    "import pandas as pd\n",
    "# import mysqldb\n",
    "import datetime\n",
    "\n",
    "df = pd.read_csv('mbta.csv', low_memory=False)\n"
   ]
  },
  {
   "cell_type": "code",
   "execution_count": 8,
   "id": "adb07267",
   "metadata": {},
   "outputs": [
    {
     "data": {
      "text/plain": [
       "'y1924'"
      ]
     },
     "execution_count": 8,
     "metadata": {},
     "output_type": "execute_result"
    }
   ],
   "source": [
    "a = df.iloc[0]\n",
    "a.loc['id']"
   ]
  },
  {
   "cell_type": "code",
   "execution_count": null,
   "id": "8307c1d7",
   "metadata": {},
   "outputs": [],
   "source": [
    "df.replace()\n",
    "\n",
    "mbtaDictList = []\n",
    "mbtaDict = {}\n",
    "for ind, row in df.iterrows():\n",
    "    mbtaDict['id'] = row.iloc[2]\n",
    "    mbtaDict['latitude'] = float(row.iloc[3]) \n",
    "    mbtaDict['longitude'] = float(row.iloc[4]) \n",
    "    mbtaDict['bearing'] = int(row.iloc[5]) \n",
    "    mbtaDict['current_status'] = row.iloc[6]\n",
    "    mbtaDict['current_stop_sequence'] = int(row.iloc[7])\n",
    "    mbtaDict['direction_id'] = int(row.iloc[8])\n",
    "    mbtaDict['label'] = row.iloc[9],\n",
    "    mbtaDict['occupancy_status'] = row.iloc[10]\n",
    "    mbtaDict['speed'] = row.iloc[11] \n",
    "    mbtaDict['updated_at'] = row.iloc[12]"
   ]
  }
 ],
 "metadata": {
  "kernelspec": {
   "display_name": "Python 3 (ipykernel)",
   "language": "python",
   "name": "python3"
  },
  "language_info": {
   "codemirror_mode": {
    "name": "ipython",
    "version": 3
   },
   "file_extension": ".py",
   "mimetype": "text/x-python",
   "name": "python",
   "nbconvert_exporter": "python",
   "pygments_lexer": "ipython3",
   "version": "3.9.12"
  }
 },
 "nbformat": 4,
 "nbformat_minor": 5
}
